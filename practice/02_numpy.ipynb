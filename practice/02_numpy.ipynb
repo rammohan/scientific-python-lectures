{
 "cells": [
  {
   "cell_type": "code",
   "execution_count": 1,
   "metadata": {
    "collapsed": true
   },
   "outputs": [],
   "source": [
    "import numpy as np\n",
    "import matplotlib.pyplot as plt\n",
    "\n",
    "%matplotlib inline"
   ]
  },
  {
   "cell_type": "markdown",
   "metadata": {},
   "source": [
    "## Creating numpy arrays\n",
    "    1. From python lists/tuples\n",
    "    2. using functions returning numpy arrays\n",
    "    3. reading data from files "
   ]
  },
  {
   "cell_type": "markdown",
   "metadata": {},
   "source": [
    "#### From Lists:"
   ]
  },
  {
   "cell_type": "code",
   "execution_count": 2,
   "metadata": {
    "collapsed": false
   },
   "outputs": [
    {
     "name": "stdout",
     "output_type": "stream",
     "text": [
      "Array :  (3,) [1 2 3]\n",
      "Row Vector:  (1, 3) [[1 2 3]]\n",
      "Column Vector:  (3, 1) [[1]\n",
      " [2]\n",
      " [3]]\n",
      "Matrix:  (2, 2)\n",
      "[[1 2]\n",
      " [3 4]]\n",
      "#elements in (2, 2) matrix: 4\n"
     ]
    }
   ],
   "source": [
    "# create a simple array - not in matrix format\n",
    "v = np.array([1,2,3])\n",
    "print \"Array : \", v.shape, v\n",
    "\n",
    "# create a row vector\n",
    "v = np.array([[1,2,3]])\n",
    "print \"Row Vector: \", v.shape, v\n",
    "\n",
    "# create a column vector\n",
    "v = np.array([[1],[2],[3]])\n",
    "print 'Column Vector: ', v.shape, v\n",
    "\n",
    "# create a matrix\n",
    "v = np.array([[1,2], [3,4]])\n",
    "print 'Matrix: ', v.shape\n",
    "print v\n",
    "\n",
    "# get #elements in an array\n",
    "print \"#elements in %s matrix: %d\" %(v.shape, v.size)"
   ]
  },
  {
   "cell_type": "markdown",
   "metadata": {},
   "source": [
    "#### Using Array generating functions"
   ]
  },
  {
   "cell_type": "code",
   "execution_count": 3,
   "metadata": {
    "collapsed": false
   },
   "outputs": [
    {
     "name": "stdout",
     "output_type": "stream",
     "text": [
      "[0 1 2 3 4 5 6 7 8 9]\n",
      "[10  9  8  7  6  5  4  3  2  1]\n"
     ]
    }
   ],
   "source": [
    "# create a range of values\n",
    "# 'arange' generates equally spaced values with incr/decr (stop-start)/step\n",
    "a1 = np.arange(0, 10, 1)    # start, stop step\n",
    "print a1\n",
    "\n",
    "# range in reverse order\n",
    "a2 = np.arange(10, 0, -1)\n",
    "print a2"
   ]
  },
  {
   "cell_type": "code",
   "execution_count": 4,
   "metadata": {
    "collapsed": false
   },
   "outputs": [
    {
     "name": "stdout",
     "output_type": "stream",
     "text": [
      "l1:  [0 1 2 3 4 5 6 7 8 9]\n",
      "l2:  [ 0.    0.25  0.5   0.75  1.  ]\n"
     ]
    }
   ],
   "source": [
    "# 'linspace' similar to 'arange', but instead of set, num_of_samples need to be specified\n",
    "l1 = np.linspace(0, 10, num=10, endpoint=False, dtype=np.int32)\n",
    "print 'l1: ', l1\n",
    "\n",
    "l2 = np.linspace(0, 1, num=5)\n",
    "print 'l2: ', l2"
   ]
  },
  {
   "cell_type": "code",
   "execution_count": 5,
   "metadata": {
    "collapsed": false
   },
   "outputs": [
    {
     "name": "stdout",
     "output_type": "stream",
     "text": [
      "log_sample1:  [  1.           1.29154967   1.66810054   2.15443469   2.7825594\n",
      "   3.59381366   4.64158883   5.9948425    7.74263683  10.        ]\n",
      "log_sample2:  [ 1.          1.11751907  1.24884887  1.39561243  1.5596235   1.742909\n",
      "  1.94773404  2.17662993  2.43242545  2.71828183]\n"
     ]
    }
   ],
   "source": [
    "# 'logspace' numbers evenly spaces on log scales, between 'start' and 'stop' values\n",
    "log_sample1 = np.logspace(0, 1, num=10, base=10)\n",
    "print 'log_sample1: ', log_sample1\n",
    "log_sample2 = np.logspace(0, 1, num=10, base=np.e)\n",
    "print 'log_sample2: ', log_sample2"
   ]
  },
  {
   "cell_type": "markdown",
   "metadata": {},
   "source": [
    "#### Random data"
   ]
  },
  {
   "cell_type": "code",
   "execution_count": 6,
   "metadata": {
    "collapsed": false
   },
   "outputs": [
    {
     "name": "stdout",
     "output_type": "stream",
     "text": [
      "uniform_sample1 of size (4,): [ 0.19151945  0.62210877  0.43772774  0.78535858]\n",
      "uniform_sample2 of size (2, 2): [[ 0.77997581  0.27259261]\n",
      " [ 0.27646426  0.80187218]]\n",
      "\n",
      "random_sample1 of size (4,) is [ 0.95813935  0.87593263  0.35781727  0.50099513]\n",
      "\n",
      "int_sample1 of size (4,) is [5 0 9 6]\n",
      "int_sample2 of size (3, 3) is [[2 0 5]\n",
      " [2 6 3]\n",
      " [7 0 9]]\n",
      "\n",
      "orig vector  [0 1 2 3 4]\n",
      "permuted vector  [4 1 2 0 3]\n",
      "orig matrix  [[12  1 11]\n",
      " [19 11 17]\n",
      " [14 19  7]]\n",
      "permuted matrix [[19 11 17]\n",
      " [14 19  7]\n",
      " [12  1 11]]\n",
      "\n",
      "choice_distr1 :  ['BLR' 'HYD' 'MUM' 'DEL']\n",
      "choice_distr2 :  ['DEL' 'HYD' 'DEL' 'DEL']\n",
      "\n",
      "\n"
     ]
    }
   ],
   "source": [
    "# seed random number generator\n",
    "np.random.seed(1234)\n",
    "\n",
    "# uniform random sample in half interval [0, 1)\n",
    "uniform_sample1 = np.random.random_sample(4)  # size param specifes dimension\n",
    "print 'uniform_sample1 of size %s: %s' %(uniform_sample1.shape, uniform_sample1)\n",
    "uniform_sample2 = np.random.random_sample((2,2))\n",
    "print 'uniform_sample2 of size %s: %s\\n' %(uniform_sample2.shape, uniform_sample2)\n",
    "\n",
    "# np.random.random() is an alias for np.random.random_sample()\n",
    "random_sample1 = np.random.random(4)\n",
    "print 'random_sample1 of size %s is %s\\n' %(random_sample1.shape, random_sample1)\n",
    "\n",
    "# sample random integers in a range\n",
    "# draw 4 samples from integer range [0, 10)\n",
    "int_sample1 = np.random.randint(0, 10, 4)\n",
    "print 'int_sample1 of size %s is %s' %(int_sample1.shape, int_sample1)\n",
    "int_sample2 = np.random.randint(0, 10, (3,3))\n",
    "print 'int_sample2 of size %s is %s\\n' %(int_sample2.shape, int_sample2)\n",
    "\n",
    "# array permutation\n",
    "orig_vector = np.arange(5)\n",
    "permuted_vector = np.random.permutation(orig_vector)\n",
    "print 'orig vector ', orig_vector\n",
    "print 'permuted vector ', permuted_vector\n",
    "# In matrix permutation, only elements along first index are shuffled\n",
    "orig_matrix = np.random.randint(0, 20, (3,3))\n",
    "permuted_matrix = np.random.permutation(orig_matrix)\n",
    "print 'orig matrix ', orig_matrix\n",
    "print 'permuted matrix %s\\n' %(permuted_matrix,)\n",
    "\n",
    "# sample from a discrete set of symbols with/without replacement subject to uniform/non-uniform probability\n",
    "cities = ('HYD', 'BLR', 'MUM', 'DEL')\n",
    "choice_distr1 = np.random.choice(cities, 4, replace=False)\n",
    "print 'choice_distr1 : ', choice_distr1\n",
    "choice_distr2 = np.random.choice(cities, 4, replace=True, p=(.4, .1, .1, .4))\n",
    "print 'choice_distr2 : ', choice_distr2\n",
    "print '\\n'\n",
    "\n",
    "# np.random also has sampling routines for \n",
    "# beta, binomial, chisquare, exponential, f, gamma,}"
   ]
  },
  {
   "cell_type": "markdown",
   "metadata": {},
   "source": [
    "##### np.random also has sampling routines for following distributions\n",
    "* beta, binomial, chisquare, exponential, f, gamma, geometric, hypergeometric, laplace, logistic, lognormal, negative binomial, normal, poisson, uniform, weibull\n",
    "* dirichlet, multinomial, multivariate normal\n",
    "* standrd distributions: cauchy, exponential, gamma, normal, t "
   ]
  },
  {
   "cell_type": "markdown",
   "metadata": {},
   "source": [
    "##### np.diag()\n",
    "* to create a diagonal matrix\n",
    "* to access any diagonal of a matrix"
   ]
  },
  {
   "cell_type": "code",
   "execution_count": 7,
   "metadata": {
    "collapsed": false
   },
   "outputs": [
    {
     "name": "stdout",
     "output_type": "stream",
     "text": [
      "diagonal_matrix1 :  [[1 0 0]\n",
      " [0 2 0]\n",
      " [0 0 3]]\n",
      "diagonal_matrix2:  [[0 1 0 0]\n",
      " [0 0 2 0]\n",
      " [0 0 0 3]\n",
      " [0 0 0 0]]\n",
      "\n",
      "\n",
      "matrix1:  [[ 0  1  2  3]\n",
      " [ 4  5  6  7]\n",
      " [ 8  9 10 11]\n",
      " [12 13 14 15]]\n",
      "main diagonal:  [ 0  5 10 15]\n",
      "diagonal with offest 1:  [ 1  6 11]\n",
      "diagonal with offest -1:  [ 4  9 14]\n"
     ]
    }
   ],
   "source": [
    "# creating diagonal matrices\n",
    "diagonal_matrix1 = np.diag((1,2,3), k=0) # diagonal entries, diagonal index (0 - main diagonal)\n",
    "print \"diagonal_matrix1 : \", diagonal_matrix1\n",
    "diagonal_matrix2 = np.diag([1,2,3], k=1)\n",
    "print \"diagonal_matrix2: \", diagonal_matrix2\n",
    "print '\\n'\n",
    "\n",
    "# extract diagonals from a matrix\n",
    "matrix1 = np.arange(16).reshape(4,4)\n",
    "print \"matrix1: \", matrix1\n",
    "print \"main diagonal: \", np.diag(matrix1, k=0)\n",
    "print \"diagonal with offest 1: \", np.diag(matrix1, k=1)\n",
    "print \"diagonal with offest -1: \", np.diag(matrix1, k=-1)"
   ]
  },
  {
   "cell_type": "markdown",
   "metadata": {},
   "source": [
    "##### np.zeros()   np.ones()\n",
    "* to create 0 matrices and 1 matrices"
   ]
  },
  {
   "cell_type": "code",
   "execution_count": 8,
   "metadata": {
    "collapsed": false
   },
   "outputs": [
    {
     "name": "stdout",
     "output_type": "stream",
     "text": [
      "zero_matrix of shape (3, 4) is [[0 0 0 0]\n",
      " [0 0 0 0]\n",
      " [0 0 0 0]] \n",
      "one_matrix of shape (2, 2) is [[1 1]\n",
      " [1 1]] \n"
     ]
    }
   ],
   "source": [
    "# zero matrix\n",
    "zero_matrix = np.zeros((3,4), dtype=np.int32)\n",
    "print \"zero_matrix of shape %s is %s \" %(zero_matrix.shape, zero_matrix)\n",
    "# one matrix\n",
    "one_matrix = np.ones((2,2), dtype=np.int32)\n",
    "print 'one_matrix of shape %s is %s ' %(one_matrix.shape, one_matrix)"
   ]
  },
  {
   "cell_type": "markdown",
   "metadata": {},
   "source": [
    "#### Reading data from files\n",
    "   * check content\n",
    "   * load it using **np.genfromtext()**\n",
    "   * **np.savetxt()** can store an array to a file as a CSV"
   ]
  },
  {
   "cell_type": "code",
   "execution_count": 27,
   "metadata": {
    "collapsed": false
   },
   "outputs": [
    {
     "name": "stdout",
     "output_type": "stream",
     "text": [
      "1800  1  1    -6.1    -6.1    -6.1 1\r\n",
      "1800  1  2   -15.4   -15.4   -15.4 1\r\n",
      "1800  1  3   -15.0   -15.0   -15.0 1\r\n",
      "1800  1  4   -19.3   -19.3   -19.3 1\r\n",
      "1800  1  5   -16.8   -16.8   -16.8 1\r\n",
      "1800  1  6   -11.4   -11.4   -11.4 1\r\n",
      "1800  1  7    -7.6    -7.6    -7.6 1\r\n",
      "1800  1  8    -7.1    -7.1    -7.1 1\r\n",
      "1800  1  9   -10.1   -10.1   -10.1 1\r\n",
      "1800  1 10    -9.5    -9.5    -9.5 1\r\n"
     ]
    }
   ],
   "source": [
    "!head ../stockholm_td_adj.dat"
   ]
  },
  {
   "cell_type": "code",
   "execution_count": 28,
   "metadata": {
    "collapsed": true
   },
   "outputs": [],
   "source": [
    "data = np.genfromtxt('../stockholm_td_adj.dat')"
   ]
  },
  {
   "cell_type": "code",
   "execution_count": 29,
   "metadata": {
    "collapsed": false
   },
   "outputs": [
    {
     "name": "stdout",
     "output_type": "stream",
     "text": [
      "(77431, 7)\n"
     ]
    }
   ],
   "source": [
    "print data.shape"
   ]
  },
  {
   "cell_type": "code",
   "execution_count": 30,
   "metadata": {
    "collapsed": false
   },
   "outputs": [
    {
     "data": {
      "text/plain": [
       "<matplotlib.text.Text at 0x7f1643071b50>"
      ]
     },
     "execution_count": 30,
     "metadata": {},
     "output_type": "execute_result"
    },
    {
     "data": {
      "image/png": "[encoded data removed]",
      "text/plain": [
       "<matplotlib.figure.Figure at 0x7f1642f8afd0>"
      ]
     },
     "metadata": {},
     "output_type": "display_data"
    }
   ],
   "source": [
    "fig, ax = plt.subplots(figsize=(14,4))\n",
    "ax.plot(data[:,0]+data[:,1]/12.0+data[:,2]/365.0, data[:, 5])\n",
    "ax.axis('tight')\n",
    "ax.set_title('temperatures in Stockholm')\n",
    "ax.set_xlabel('year')\n",
    "ax.set_ylabel('temperature(C)')"
   ]
  },
  {
   "cell_type": "markdown",
   "metadata": {},
   "source": [
    "#### save numpy object as a plain text file"
   ]
  },
  {
   "cell_type": "code",
   "execution_count": 47,
   "metadata": {
    "collapsed": false
   },
   "outputs": [
    {
     "name": "stdout",
     "output_type": "stream",
     "text": [
      "[[18 31 39]\n",
      " [99 26 57]\n",
      " [25 13 77]\n",
      " [97  9 48]]\n",
      "temp_file.csv: ASCII text\r\n"
     ]
    }
   ],
   "source": [
    "random_matrix = np.random.randint(1, 100, (4,3))\n",
    "print random_matrix\n",
    "np.savetxt('temp_file.csv', random_matrix)\n",
    "!file 'temp_file.csv'\n",
    "!rm 'temp_file.csv'"
   ]
  },
  {
   "cell_type": "markdown",
   "metadata": {},
   "source": [
    "#### numpy serialization and de-serialization\n",
    "* **save()** to serialize a numpy object to a file\n",
    "* **load()** to de-serialize \n",
    "* numpy serialized files have **.npy** suffix added automatically"
   ]
  },
  {
   "cell_type": "code",
   "execution_count": 58,
   "metadata": {
    "collapsed": false
   },
   "outputs": [
    {
     "name": "stdout",
     "output_type": "stream",
     "text": [
      "temp_file.npy: data\r\n"
     ]
    }
   ],
   "source": [
    "# serialize\n",
    "np.save('temp_file.npy', random_matrix)\n",
    "# chek if file got created\n",
    "!file temp_file.npy\n",
    "# de-serialize \n",
    "random_matrix_clone = np.load('temp_file.npy')\n",
    "# ensure deserialized obj is same as orig. object\n",
    "assert np.array_equal(random_matrix, random_matrix_clone)\n",
    "# finally, remove the temp file\n",
    "!rm -f 'temp_file.npy'"
   ]
  },
  {
   "cell_type": "markdown",
   "metadata": {},
   "source": [
    "#### dimensions of an array"
   ]
  },
  {
   "cell_type": "code",
   "execution_count": 67,
   "metadata": {
    "collapsed": false
   },
   "outputs": [
    {
     "name": "stdout",
     "output_type": "stream",
     "text": [
      "# dimensions of a row_vector[shape (3,)]: 1\n",
      "# dimensionf of a column vector[shape (3, 1)]: 2\n",
      "# dimensionf of a matrix[shape (4, 3)]: 2\n"
     ]
    }
   ],
   "source": [
    "row_vector = np.array([1, 2, 3])\n",
    "print '# dimensions of a row_vector[shape %s]: %s' %(row_vector.shape, row_vector.ndim)\n",
    "column_vector = np.array([[1],[2], [3]])\n",
    "print '# dimensionf of a column vector[shape %s]: %s' %(column_vector.shape, column_vector.ndim)\n",
    "print '# dimensionf of a matrix[shape %s]: %s' %(random_matrix.shape, random_matrix.ndim)"
   ]
  },
  {
   "cell_type": "markdown",
   "metadata": {},
   "source": [
    "### Array indexing\n",
    "* elements of an **N** dimensional array is accessed using **array[index1, index2, ..., indexN]**\n",
    "* an index specification can be:\n",
    "   * one index value\n",
    "   * a range of index values, specified using **start:stop:step** index specification\n",
    "   * fancy indexing, a list of index values are specfied "
   ]
  },
  {
   "cell_type": "code",
   "execution_count": 83,
   "metadata": {
    "collapsed": false
   },
   "outputs": [
    {
     "name": "stdout",
     "output_type": "stream",
     "text": [
      "Vector :  [3 0 2 0 3]\n",
      "Matrix :  [[5 2 6]\n",
      " [6 6 4]\n",
      " [1 0 7]]\n",
      "V, first element: 3 last element: 3\n",
      "M, third element in second row is:  4\n",
      "M, second row:  [6 6 4]\n",
      "M, second row(alt):  [6 6 4]\n",
      "M, third column:  [6 4 7]\n",
      "M, 2x2 sub matrix (bottom and right most):  [[6 4]\n",
      " [0 7]]\n",
      "M, 2x2 sub matrix of corner elements:  [[5 6]\n",
      " [1 7]]\n",
      "M, :  [[5 6]\n",
      " [1 7]]\n"
     ]
    }
   ],
   "source": [
    "# create a random vector and a matrix\n",
    "V = np.random.randint(0, 10, 5)\n",
    "M = np.random.randint(0, 10, (3,3))\n",
    "print 'Vector : ', V\n",
    "print 'Matrix : ', M\n",
    "\n",
    "# access elements of a vecor\n",
    "# print first and last elements of the vector\n",
    "print 'V, first element: %d last element: %d' %(V[0], V[-1])\n",
    "# access elements of a matrix\n",
    "print 'M, third element in second row is: ', M[1][2]\n",
    "print 'M, second row: ', M[1]\n",
    "print 'M, second row(alt): ', M[1,:]\n",
    "print 'M, third column: ', M[:,2]\n",
    "print 'M, 2x2 sub matrix (bottom and right most): ', M[1:,1:]\n",
    "print 'M, 2x2 sub matrix of corner elements: ', M[0::2, 0::2]\n",
    "print 'M, : ', M[[0,2], 0::2]"
   ]
  },
  {
   "cell_type": "markdown",
   "metadata": {},
   "source": [
    "#### Masking arrays"
   ]
  },
  {
   "cell_type": "code",
   "execution_count": 91,
   "metadata": {
    "collapsed": false
   },
   "outputs": [
    {
     "name": "stdout",
     "output_type": "stream",
     "text": [
      "Vector:  [2 2 1 9 2 4 8 3 9 4]\n",
      "Mask:  [ True False  True False  True False  True False  True False]\n",
      "Masked array:  [2 1 2 8 9]\n",
      "Range mask for interval [3,6] is:  [False False False False False  True False  True False  True]\n",
      "Range masked array :  [4 3 4]\n"
     ]
    }
   ],
   "source": [
    "# create a vector\n",
    "V = np.random.randint(1, 10, 10)\n",
    "print \"Vector: \", V\n",
    "# mask for picking alternate elements from the vector\n",
    "mask = np.array([True, False, True, False, True, False, True, False, True, False], dtype=np.bool)\n",
    "print 'Mask: ', mask\n",
    "print 'Masked array: ', V[mask]\n",
    "# select only elements in the range [3,6]\n",
    "range_mask = (V >= 3) * (V<=6)\n",
    "print 'Range mask for interval [3,6] is: ', range_mask\n",
    "print 'Range masked array : ', V[range_mask]"
   ]
  },
  {
   "cell_type": "markdown",
   "metadata": {},
   "source": [
    "#### where()\n",
    "* **where(mask)** converts index mask to position indexes\n",
    "* **where(mask, X, Y)** selects element from X at index if mask evaluates to True at this index, otherwise selects element from Y "
   ]
  },
  {
   "cell_type": "code",
   "execution_count": 100,
   "metadata": {
    "collapsed": false
   },
   "outputs": [
    {
     "name": "stdout",
     "output_type": "stream",
     "text": [
      "Vector1 :  [0 8 1 6 0 3 7 5 0 8]\n",
      "Vector2 :  [19 18 15 11 19 14 16 12 16 13]\n",
      "Alternate selection mask:  [ True False  True False  True False  True False  True False]\n",
      "Masked selection:  [ 0 18  1 11  0 14  7 12  0 13]\n",
      "Positional indexes:  (array([0, 2, 4, 6, 8]),)\n"
     ]
    }
   ],
   "source": [
    "# create vector\n",
    "V1 = np.random.randint(0, 10, 10)\n",
    "V2 = np.random.randint(10, 20, 10)\n",
    "print 'Vector1 : ', V1\n",
    "print 'Vector2 : ', V2\n",
    "# mask that selects elements from V1 and V2 alternately\n",
    "mask = np.array([True, False, True, False, True, False, True, False, True, False], dtype=np.bool)\n",
    "print 'Alternate selection mask: ', mask\n",
    "masked_selection = np.where(mask, V1, V2)\n",
    "print 'Masked selection: ', masked_selection\n",
    "assert np.array_equal(V1[0::2], masked_selection[0::2])\n",
    "assert np.array_equal(V2[1::2], masked_selection[1::2])\n",
    "# get positinal indexes from index mask\n",
    "print 'Positional indexes: ', np.where(mask)"
   ]
  },
  {
   "cell_type": "markdown",
   "metadata": {},
   "source": [
    "## Linear Algebra"
   ]
  },
  {
   "cell_type": "markdown",
   "metadata": {},
   "source": [
    "#### Scalar Vector Operations"
   ]
  },
  {
   "cell_type": "code",
   "execution_count": 106,
   "metadata": {
    "collapsed": false
   },
   "outputs": [
    {
     "name": "stdout",
     "output_type": "stream",
     "text": [
      "Vector:  [1 2 3 4 5 6 7 8 9]\n",
      "V + 1 =  [ 2  3  4  5  6  7  8  9 10]\n",
      "2 * V  =  [ 2  4  6  8 10 12 14 16 18]\n",
      "V / 2 =  [ 0.5  1.   1.5  2.   2.5  3.   3.5  4.   4.5]\n"
     ]
    }
   ],
   "source": [
    "# create a vector\n",
    "V = np.arange(1,10)\n",
    "print 'Vector: ', V\n",
    "# addition\n",
    "print 'V + 1 = ', V + 1\n",
    "# multiplication\n",
    "print '2 * V  = ', 2*V\n",
    "# division \n",
    "print 'V / 2 = ', V/2.0"
   ]
  },
  {
   "cell_type": "markdown",
   "metadata": {},
   "source": [
    "#### Vector by Vector operations - element wise"
   ]
  },
  {
   "cell_type": "code",
   "execution_count": 114,
   "metadata": {
    "collapsed": false
   },
   "outputs": [
    {
     "name": "stdout",
     "output_type": "stream",
     "text": [
      "Vector:  [1 2 3 4]\n",
      "V + V =  [2 4 6 8]\n",
      "V - V =  [0 0 0 0]\n",
      "V * V =  [ 1  4  9 16]\n",
      "Matrix =  [[1 2 3]\n",
      " [4 5 6]\n",
      " [7 8 9]]\n",
      "M + M =  [[ 2  4  6]\n",
      " [ 8 10 12]\n",
      " [14 16 18]]\n",
      "M * M =  [[ 1  4  9]\n",
      " [16 25 36]\n",
      " [49 64 81]]\n"
     ]
    }
   ],
   "source": [
    "# create a vector and a matrix\n",
    "V = np.arange(1, 5)\n",
    "print 'Vector: ', V\n",
    "# vector addition\n",
    "print 'V + V = ', V+V\n",
    "# vector subtraction\n",
    "print 'V - V = ', V-V\n",
    "# Vector multiplication\n",
    "print 'V * V = ', V * V\n",
    "\n",
    "# create a matrix\n",
    "M = np.arange(1,10, dtype=np.int32).reshape(3,3)\n",
    "print 'Matrix = ', M\n",
    "# element wise matrix addition\n",
    "print 'M + M = ', M + M\n",
    "# elementwise matrix multiplication\n",
    "print 'M * M = ', M * M"
   ]
  },
  {
   "cell_type": "markdown",
   "metadata": {},
   "source": [
    "#### Matrix Matrix multiplication\n",
    "* using **np.dot()**"
   ]
  },
  {
   "cell_type": "code",
   "execution_count": 124,
   "metadata": {
    "collapsed": false
   },
   "outputs": [
    {
     "name": "stdout",
     "output_type": "stream",
     "text": [
      "Matrix A1:  [[1 2 3]\n",
      " [4 5 6]\n",
      " [7 8 9]]\n",
      "Matrix B1:  [[1 0 0]\n",
      " [0 1 0]\n",
      " [0 0 1]]\n",
      "Matrix C1 = A1 B1 :  [[1 2 3]\n",
      " [4 5 6]\n",
      " [7 8 9]]\n",
      "Vector V1:  [[1]\n",
      " [2]\n",
      " [3]]\n",
      "Matrix B1:  [[1 0 0]\n",
      " [0 1 0]\n",
      " [0 0 1]]\n",
      "D1 = V1.T B1 :  [[1 2 3]]\n"
     ]
    }
   ],
   "source": [
    "# using np.dot()\n",
    "A1 = np.arange(1,10).reshape(3,3)\n",
    "B1 = np.diag([1,1,1])\n",
    "C1 = np.dot(A1, B1)\n",
    "print 'Matrix A1: ', A1\n",
    "print 'Matrix B1: ', B1\n",
    "print 'Matrix C1 = A1 B1 : ', C1\n",
    "assert C1.shape[0] == A1.shape[0] and C1.shape[1] == B1.shape[-1]\n",
    "# vector matrix multiplication\n",
    "V1 = np.arange(1,4).reshape(3,1)\n",
    "D1 = np.dot(V1.T, B1)\n",
    "print 'Vector V1: ', V1\n",
    "print 'Matrix B1: ', B1\n",
    "print 'D1 = V1.T B1 : ', D1\n",
    "assert D1.shape[0] == V1.T.shape[0] and D1.shape[1] == B1.shape[1]"
   ]
  },
  {
   "cell_type": "markdown",
   "metadata": {},
   "source": [
    "* using **np.matrix()**"
   ]
  },
  {
   "cell_type": "code",
   "execution_count": 133,
   "metadata": {
    "collapsed": false
   },
   "outputs": [
    {
     "name": "stdout",
     "output_type": "stream",
     "text": [
      "Matrix A2:  [[1 2 3]\n",
      " [4 5 6]\n",
      " [7 8 9]]\n",
      "Matrix B2:  [[1 0 0]\n",
      " [0 1 0]\n",
      " [0 0 1]]\n",
      "Matrix C2 = A2 B2 :  [[1 2 3]\n",
      " [4 5 6]\n",
      " [7 8 9]]\n",
      "Vector V2:  [[1]\n",
      " [2]\n",
      " [3]]\n",
      "Matrix B2:  [[1 0 0]\n",
      " [0 1 0]\n",
      " [0 0 1]]\n",
      "D2 = V2.T D2 :  [[1 2 3]]\n"
     ]
    }
   ],
   "source": [
    "# using np.matrix()\n",
    "# matrix matrix multiplication\n",
    "A2 = np.asmatrix(A1)\n",
    "B2 = np.asmatrix(B1)\n",
    "C2 = A2 * B2\n",
    "print 'Matrix A2: ', A2\n",
    "print 'Matrix B2: ', B2\n",
    "print 'Matrix C2 = A2 B2 : ', C2\n",
    "# vector matrix multiplication\n",
    "V2 = np.copy(V1)\n",
    "D2 = V2.T * B2\n",
    "print 'Vector V2: ', V2\n",
    "print 'Matrix B2: ', B2\n",
    "print 'D2 = V2.T D2 : ', D2"
   ]
  },
  {
   "cell_type": "markdown",
   "metadata": {},
   "source": [
    "#### Matrix operations"
   ]
  },
  {
   "cell_type": "code",
   "execution_count": 141,
   "metadata": {
    "collapsed": false
   },
   "outputs": [
    {
     "name": "stdout",
     "output_type": "stream",
     "text": [
      "Matrix M:  [[1 2]\n",
      " [3 4]]\n",
      "Determinant Det(M):  -2.0\n",
      "Matrix inverse inv(M):  [[-2.   1. ]\n",
      " [ 1.5 -0.5]]\n"
     ]
    }
   ],
   "source": [
    "# square matrix\n",
    "M = np.arange(1,5).reshape(2,2)\n",
    "M_determinant = np.linalg.det(M)\n",
    "M_inverse = np.linalg.inv(M)\n",
    "print \"Matrix M: \", M\n",
    "print 'Determinant Det(M): ', M_determinant\n",
    "print \"Matrix inverse inv(M): \", M_inverse\n"
   ]
  },
  {
   "cell_type": "markdown",
   "metadata": {},
   "source": [
    "## Data Processing"
   ]
  },
  {
   "cell_type": "code",
   "execution_count": 151,
   "metadata": {
    "collapsed": false
   },
   "outputs": [
    {
     "name": "stdout",
     "output_type": "stream",
     "text": [
      "(77431, 7)\n",
      "temperature (min:-25.800000, max:28.300000, avg:6.197110, var:68.596023, sd:8.282272)\n"
     ]
    }
   ],
   "source": [
    "# var 'data' holds Stokholm weather data\n",
    "# check shape of data\n",
    "assert np.shape(data) == data.shape\n",
    "print np.shape(data)\n",
    "# temperature data is in column 4\n",
    "temperature = data[:,3]\n",
    "assert temperature.shape[0] == data.shape[0]\n",
    "min_temp = np.min(temperature)\n",
    "max_temp = np.max(temperature)\n",
    "avg_temp = np.mean(temperature)\n",
    "var_temp = np.var(temperature)\n",
    "sd_temp = np.std(temperature)\n",
    "print 'temperature (min:%f, max:%f, avg:%f, var:%f, sd:%f)' %(min_temp, max_temp, avg_temp, var_temp, sd_temp)"
   ]
  },
  {
   "cell_type": "code",
   "execution_count": 152,
   "metadata": {
    "collapsed": false
   },
   "outputs": [
    {
     "name": "stdout",
     "output_type": "stream",
     "text": [
      "1800  1  1    -6.1    -6.1    -6.1 1\r\n",
      "1800  1  2   -15.4   -15.4   -15.4 1\r\n",
      "1800  1  3   -15.0   -15.0   -15.0 1\r\n"
     ]
    }
   ],
   "source": [
    "!head -n 3 ../stockholm_td_adj.dat"
   ]
  },
  {
   "cell_type": "code",
   "execution_count": 156,
   "metadata": {
    "collapsed": false
   },
   "outputs": [
    {
     "name": "stdout",
     "output_type": "stream",
     "text": [
      "[  1.   2.   3.   4.   5.   6.   7.   8.   9.  10.  11.  12.]\n",
      "Mean temp in Feb:  -3.21210957074\n"
     ]
    }
   ],
   "source": [
    "# get average temp for the month of Feb\n",
    "# months seem to be in column2, verify\n",
    "print np.unique(data[:,1])\n",
    "# create mask for Feb\n",
    "feb_mask = (data[:,1] == 2)\n",
    "print 'Mean temp in Feb: ', np.mean(data[feb_mask, 3])"
   ]
  },
  {
   "cell_type": "markdown",
   "metadata": {},
   "source": [
    "#### Plot monthly average temperatures"
   ]
  },
  {
   "cell_type": "code",
   "execution_count": 182,
   "metadata": {
    "collapsed": false
   },
   "outputs": [
    {
     "data": {
      "text/plain": [
       "<matplotlib.text.Text at 0x7f1642990210>"
      ]
     },
     "execution_count": 182,
     "metadata": {},
     "output_type": "execute_result"
    },
    {
     "data": {
      "image/png": "[encoded data removed]",
      "text/plain": [
       "<matplotlib.figure.Figure at 0x7f1642ee01d0>"
      ]
     },
     "metadata": {},
     "output_type": "display_data"
    }
   ],
   "source": [
    "months = np.arange(1, 13)\n",
    "monthly_means = [np.mean(data[data[:,1] == month, 3]) for month in months]\n",
    "\n",
    "fig, axis = plt.subplots()\n",
    "axis.bar(months, monthly_means)\n",
    "axis.set_xlabel('month')\n",
    "axis.set_ylabel('avg. temperature')"
   ]
  },
  {
   "cell_type": "markdown",
   "metadata": {},
   "source": [
    "#### Flatten arrays"
   ]
  },
  {
   "cell_type": "code",
   "execution_count": 183,
   "metadata": {
    "collapsed": false
   },
   "outputs": [
    {
     "name": "stdout",
     "output_type": "stream",
     "text": [
      "Array:   [[1 2]\n",
      " [3 4]]\n",
      "Flatten array:  [1 2 3 4]\n"
     ]
    }
   ],
   "source": [
    "A = np.arange(1,5).reshape(2,2)\n",
    "print \"Array:  \", A\n",
    "print \"Flatten array: \", A.flatten()"
   ]
  },
  {
   "cell_type": "markdown",
   "metadata": {},
   "source": [
    "### Add one additional dimension to an array"
   ]
  },
  {
   "cell_type": "code",
   "execution_count": 193,
   "metadata": {
    "collapsed": false
   },
   "outputs": [
    {
     "name": "stdout",
     "output_type": "stream",
     "text": [
      "Original (2x2) matrix :  [[1 2]\n",
      " [3 4]]\n",
      "Reshaped (1x2x2) matrix :  [[[1 2]\n",
      "  [3 4]]]\n",
      "Reshaped (2x1x2) matrix :  [[[1 2]]\n",
      "\n",
      " [[3 4]]]\n",
      "Reshaped (2x2x1) matrix :  [[[1]\n",
      "  [2]]\n",
      "\n",
      " [[3]\n",
      "  [4]]]\n"
     ]
    }
   ],
   "source": [
    "# create a matrix\n",
    "A = np.arange(1,5).reshape(2,2)\n",
    "# reshape A into (1,2,2) dimensional matrix\n",
    "A_122 = A[np.newaxis,:,:]\n",
    "assert A_122.shape == (1,A.shape[0], A.shape[1])\n",
    "# reshape A into (2,1,2) dimensional matrix\n",
    "A_212 = A[:,np.newaxis,:]\n",
    "assert A_212.shape == (A.shape[0], 1, A.shape[1])\n",
    "# reshape A into (2,2,1) dimensional matrix\n",
    "A_221 = A[:,:,np.newaxis]\n",
    "assert A_221.shape == (A.shape[0], A.shape[1], 1)\n",
    "# print matrices\n",
    "print 'Original (2x2) matrix : ', A\n",
    "print 'Reshaped (1x2x2) matrix : ', A_122\n",
    "print 'Reshaped (2x1x2) matrix : ', A_212\n",
    "print 'Reshaped (2x2x1) matrix : ', A_221"
   ]
  },
  {
   "cell_type": "markdown",
   "metadata": {},
   "source": [
    "#### Replicate Arrays\n",
    "* Repeat elements of an array"
   ]
  },
  {
   "cell_type": "code",
   "execution_count": 212,
   "metadata": {
    "collapsed": false
   },
   "outputs": [
    {
     "name": "stdout",
     "output_type": "stream",
     "text": [
      "A :  [[1 2]\n",
      " [3 4]]\n",
      "flattened array :  [1 2 3 4]\n",
      "A flattened - row major order :  [[1 2]\n",
      " [1 2]\n",
      " [3 4]\n",
      " [3 4]]\n",
      "A flattened - column major order :  [[1 1 2 2]\n",
      " [3 3 4 4]]\n"
     ]
    }
   ],
   "source": [
    "# create array\n",
    "A = np.arange(1,5).reshape(2,2)\n",
    "print 'A : ', A\n",
    "# flatten the array\n",
    "print \"flattened array : \", np.repeat(A, 1)\n",
    "# repeat by row major order\n",
    "print 'A flattened - row major order : ', np.repeat(A, 2, axis=0)\n",
    "# repeat by column major order\n",
    "print 'A flattened - column major order : ', np.repeat(A, 2, axis=1)"
   ]
  },
  {
   "cell_type": "markdown",
   "metadata": {},
   "source": [
    "* Concatenate"
   ]
  },
  {
   "cell_type": "code",
   "execution_count": 219,
   "metadata": {
    "collapsed": false
   },
   "outputs": [
    {
     "name": "stdout",
     "output_type": "stream",
     "text": [
      "A :  [[1 2]\n",
      " [3 4]]\n",
      "A horizontal concatenation :  [[1 2 1 2]\n",
      " [3 4 3 4]]\n",
      "A vertical concatenation :  [[1 2]\n",
      " [3 4]\n",
      " [1 2]\n",
      " [3 4]]\n"
     ]
    }
   ],
   "source": [
    "A = np.arange(1,5).reshape(2,2)\n",
    "print 'A : ', A\n",
    "# concatenate horizontally\n",
    "print 'A horizontal concatenation : ', np.concatenate((A, A), axis=1)\n",
    "# concatenate horizontally\n",
    "print 'A vertical concatenation : ', np.concatenate((A, A), axis=0)"
   ]
  }
 ],
 "metadata": {
  "kernelspec": {
   "display_name": "Python 2",
   "language": "python",
   "name": "python2"
  },
  "language_info": {
   "codemirror_mode": {
    "name": "ipython",
    "version": 2
   },
   "file_extension": ".py",
   "mimetype": "text/x-python",
   "name": "python",
   "nbconvert_exporter": "python",
   "pygments_lexer": "ipython2",
   "version": "2.7.6"
  }
 },
 "nbformat": 4,
 "nbformat_minor": 0
}
