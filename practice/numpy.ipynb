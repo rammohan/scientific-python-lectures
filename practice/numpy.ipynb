{
 "cells": [
  {
   "cell_type": "code",
   "execution_count": null,
   "metadata": {
    "collapsed": true
   },
   "outputs": [],
   "source": [
    "import numpy as np\n",
    "import matplotlib.pyplot as plt\n",
    "\n",
    "%matplotlib inline"
   ]
  },
  {
   "cell_type": "markdown",
   "metadata": {},
   "source": [
    "## Creating numpy arrays\n",
    "    1. From python lists/tuples\n",
    "    2. using functions returning numpy arrays\n",
    "    3. reading data from files "
   ]
  },
  {
   "cell_type": "markdown",
   "metadata": {},
   "source": [
    "#### From Lists:"
   ]
  },
  {
   "cell_type": "code",
   "execution_count": null,
   "metadata": {
    "collapsed": false
   },
   "outputs": [],
   "source": [
    "# create a simple array - not in matrix format\n",
    "v = np.array([1,2,3])\n",
    "print \"Array : \", v.shape, v\n",
    "\n",
    "# create a row vector\n",
    "v = np.array([[1,2,3]])\n",
    "print \"Row Vector: \", v.shape, v\n",
    "\n",
    "# create a column vector\n",
    "v = np.array([[1],[2],[3]])\n",
    "print 'Column Vector: ', v.shape, v\n",
    "\n",
    "# create a matrix\n",
    "v = np.array([[1,2], [3,4]])\n",
    "print 'Matrix: ', v.shape\n",
    "print v\n",
    "\n",
    "# get #elements in an array\n",
    "print \"#elements in %s matrix: %d\" %(v.shape, v.size)"
   ]
  },
  {
   "cell_type": "markdown",
   "metadata": {},
   "source": [
    "#### Using Array generating functions"
   ]
  },
  {
   "cell_type": "code",
   "execution_count": null,
   "metadata": {
    "collapsed": false
   },
   "outputs": [],
   "source": [
    "# create a range of values\n",
    "# 'arange' generates equally spaced values with incr/decr (stop-start)/step\n",
    "a1 = np.arange(0, 10, 1)    # start, stop step\n",
    "print a1\n",
    "\n",
    "# range in reverse order\n",
    "a2 = np.arange(10, 0, -1)\n",
    "print a2"
   ]
  },
  {
   "cell_type": "code",
   "execution_count": null,
   "metadata": {
    "collapsed": false
   },
   "outputs": [],
   "source": [
    "# 'linspace' similar to 'arange', but instead of set, num_of_samples need to be specified\n",
    "l1 = np.linspace(0, 10, num=10, endpoint=False, dtype=np.int32)\n",
    "print 'l1: ', l1\n",
    "\n",
    "l2 = np.linspace(0, 1, num=5)\n",
    "print 'l2: ', l2"
   ]
  },
  {
   "cell_type": "code",
   "execution_count": null,
   "metadata": {
    "collapsed": false
   },
   "outputs": [],
   "source": [
    "# 'logspace' numbers evenly spaces on log scales, between 'start' and 'stop' values\n",
    "log_sample1 = np.logspace(0, 1, num=10, base=10)\n",
    "print 'log_sample1: ', log_sample1\n",
    "log_sample2 = np.logspace(0, 1, num=10, base=np.e)\n",
    "print 'log_sample2: ', log_sample2"
   ]
  },
  {
   "cell_type": "markdown",
   "metadata": {},
   "source": [
    "#### Random data"
   ]
  },
  {
   "cell_type": "code",
   "execution_count": null,
   "metadata": {
    "collapsed": false
   },
   "outputs": [],
   "source": [
    "# seed random number generator\n",
    "np.random.seed(1234)\n",
    "\n",
    "# uniform random sample in half interval [0, 1)\n",
    "uniform_sample1 = np.random.random_sample(4)  # size param specifes dimension\n",
    "print 'uniform_sample1 of size %s: %s' %(uniform_sample1.shape, uniform_sample1)\n",
    "uniform_sample2 = np.random.random_sample((2,2))\n",
    "print 'uniform_sample2 of size %s: %s\\n' %(uniform_sample2.shape, uniform_sample2)\n",
    "\n",
    "# np.random.random() is an alias for np.random.random_sample()\n",
    "random_sample1 = np.random.random(4)\n",
    "print 'random_sample1 of size %s is %s\\n' %(random_sample1.shape, random_sample1)\n",
    "\n",
    "# sample random integers in a range\n",
    "# draw 4 samples from integer range [0, 10)\n",
    "int_sample1 = np.random.randint(0, 10, 4)\n",
    "print 'int_sample1 of size %s is %s' %(int_sample1.shape, int_sample1)\n",
    "int_sample2 = np.random.randint(0, 10, (3,3))\n",
    "print 'int_sample2 of size %s is %s\\n' %(int_sample2.shape, int_sample2)\n",
    "\n",
    "# array permutation\n",
    "orig_vector = np.arange(5)\n",
    "permuted_vector = np.random.permutation(orig_vector)\n",
    "print 'orig vector ', orig_vector\n",
    "print 'permuted vector ', permuted_vector\n",
    "# In matrix permutation, only elements along first index are shuffled\n",
    "orig_matrix = np.random.randint(0, 20, (3,3))\n",
    "permuted_matrix = np.random.permutation(orig_matrix)\n",
    "print 'orig matrix ', orig_matrix\n",
    "print 'permuted matrix %s\\n' %(permuted_matrix,)\n",
    "\n",
    "# sample from a discrete set of symbols with/without replacement subject to uniform/non-uniform probability\n",
    "cities = ('HYD', 'BLR', 'MUM', 'DEL')\n",
    "choice_distr1 = np.random.choice(cities, 4, replace=False)\n",
    "print 'choice_distr1 : ', choice_distr1\n",
    "choice_distr2 = np.random.choice(cities, 4, replace=True, p=(.4, .1, .1, .4))\n",
    "print 'choice_distr2 : ', choice_distr2\n",
    "print '\\n'\n",
    "\n",
    "# np.random also has sampling routines for \n",
    "# beta, binomial, chisquare, exponential, f, gamma,}"
   ]
  },
  {
   "cell_type": "markdown",
   "metadata": {},
   "source": [
    "##### np.random also has sampling routines for following distributions\n",
    "* beta, binomial, chisquare, exponential, f, gamma, geometric, hypergeometric, laplace, logistic, lognormal, negative binomial, normal, poisson, uniform, weibull\n",
    "* dirichlet, multinomial, multivariate normal\n",
    "* standrd distributions: cauchy, exponential, gamma, normal, t "
   ]
  },
  {
   "cell_type": "markdown",
   "metadata": {},
   "source": [
    "##### np.diag()\n",
    "* to create a diagonal matrix\n",
    "* to access any diagonal of a matrix"
   ]
  },
  {
   "cell_type": "code",
   "execution_count": 83,
   "metadata": {
    "collapsed": false
   },
   "outputs": [
    {
     "name": "stdout",
     "output_type": "stream",
     "text": [
      "diagonal_matrix1 :  [[1 0 0]\n",
      " [0 2 0]\n",
      " [0 0 3]]\n",
      "diagonal_matrix2:  [[0 1 0 0]\n",
      " [0 0 2 0]\n",
      " [0 0 0 3]\n",
      " [0 0 0 0]]\n",
      "\n",
      "\n",
      "matrix1:  [[ 0  1  2  3]\n",
      " [ 4  5  6  7]\n",
      " [ 8  9 10 11]\n",
      " [12 13 14 15]]\n",
      "main diagonal:  [ 0  5 10 15]\n",
      "diagonal with offest 1:  [ 1  6 11]\n",
      "diagonal with offest -1:  [ 4  9 14]\n"
     ]
    }
   ],
   "source": [
    "# creating diagonal matrices\n",
    "diagonal_matrix1 = np.diag((1,2,3), k=0) # diagonal entries, diagonal index (0 - main diagonal)\n",
    "print \"diagonal_matrix1 : \", diagonal_matrix1\n",
    "diagonal_matrix2 = np.diag([1,2,3], k=1)\n",
    "print \"diagonal_matrix2: \", diagonal_matrix2\n",
    "print '\\n'\n",
    "\n",
    "# extract diagonals from a matrix\n",
    "matrix1 = np.arange(16).reshape(4,4)\n",
    "print \"matrix1: \", matrix1\n",
    "print \"main diagonal: \", np.diag(matrix1, k=0)\n",
    "print \"diagonal with offest 1: \", np.diag(matrix1, k=1)\n",
    "print \"diagonal with offest -1: \", np.diag(matrix1, k=-1)"
   ]
  },
  {
   "cell_type": "markdown",
   "metadata": {},
   "source": [
    "##### np.zeros()   np.ones()\n",
    "* to create 0 matrices and 1 matrices"
   ]
  },
  {
   "cell_type": "code",
   "execution_count": 85,
   "metadata": {
    "collapsed": false
   },
   "outputs": [
    {
     "name": "stdout",
     "output_type": "stream",
     "text": [
      "zero_matrix of shape (3, 4) is [[0 0 0 0]\n",
      " [0 0 0 0]\n",
      " [0 0 0 0]] \n",
      "one_matrix of shape (2, 2) is [[1 1]\n",
      " [1 1]] \n"
     ]
    }
   ],
   "source": [
    "# zero matrix\n",
    "zero_matrix = np.zeros((3,4), dtype=np.int32)\n",
    "print \"zero_matrix of shape %s is %s \" %(zero_matrix.shape, zero_matrix)\n",
    "# one matrix\n",
    "one_matrix = np.ones((2,2), dtype=np.int32)\n",
    "print 'one_matrix of shape %s is %s ' %(one_matrix.shape, one_matrix)"
   ]
  },
  {
   "cell_type": "markdown",
   "metadata": {},
   "source": [
    "#### Reading data from files"
   ]
  },
  {
   "cell_type": "code",
   "execution_count": 86,
   "metadata": {
    "collapsed": false
   },
   "outputs": [
    {
     "name": "stdout",
     "output_type": "stream",
     "text": [
      "1800  1  1    -6.1    -6.1    -6.1 1\r\n",
      "1800  1  2   -15.4   -15.4   -15.4 1\r\n",
      "1800  1  3   -15.0   -15.0   -15.0 1\r\n",
      "1800  1  4   -19.3   -19.3   -19.3 1\r\n",
      "1800  1  5   -16.8   -16.8   -16.8 1\r\n",
      "1800  1  6   -11.4   -11.4   -11.4 1\r\n",
      "1800  1  7    -7.6    -7.6    -7.6 1\r\n",
      "1800  1  8    -7.1    -7.1    -7.1 1\r\n",
      "1800  1  9   -10.1   -10.1   -10.1 1\r\n",
      "1800  1 10    -9.5    -9.5    -9.5 1\r\n"
     ]
    }
   ],
   "source": [
    "!head ../stockholm_td_adj.dat"
   ]
  },
  {
   "cell_type": "code",
   "execution_count": 87,
   "metadata": {
    "collapsed": false
   },
   "outputs": [
    {
     "data": {
      "application/json": {
       "cell": {
        "!": "OSMagics",
        "HTML": "Other",
        "SVG": "Other",
        "bash": "Other",
        "capture": "ExecutionMagics",
        "debug": "ExecutionMagics",
        "file": "Other",
        "html": "DisplayMagics",
        "javascript": "DisplayMagics",
        "latex": "DisplayMagics",
        "perl": "Other",
        "prun": "ExecutionMagics",
        "pypy": "Other",
        "python": "Other",
        "python2": "Other",
        "python3": "Other",
        "ruby": "Other",
        "script": "ScriptMagics",
        "sh": "Other",
        "svg": "DisplayMagics",
        "sx": "OSMagics",
        "system": "OSMagics",
        "time": "ExecutionMagics",
        "timeit": "ExecutionMagics",
        "writefile": "OSMagics"
       },
       "line": {
        "alias": "OSMagics",
        "alias_magic": "BasicMagics",
        "autocall": "AutoMagics",
        "automagic": "AutoMagics",
        "autosave": "KernelMagics",
        "bookmark": "OSMagics",
        "cat": "Other",
        "cd": "OSMagics",
        "clear": "KernelMagics",
        "colors": "BasicMagics",
        "config": "ConfigMagics",
        "connect_info": "KernelMagics",
        "cp": "Other",
        "debug": "ExecutionMagics",
        "dhist": "OSMagics",
        "dirs": "OSMagics",
        "doctest_mode": "BasicMagics",
        "ed": "Other",
        "edit": "KernelMagics",
        "env": "OSMagics",
        "gui": "BasicMagics",
        "hist": "Other",
        "history": "HistoryMagics",
        "install_default_config": "DeprecatedMagics",
        "install_ext": "ExtensionMagics",
        "install_profiles": "DeprecatedMagics",
        "killbgscripts": "ScriptMagics",
        "ldir": "Other",
        "less": "KernelMagics",
        "lf": "Other",
        "lk": "Other",
        "ll": "Other",
        "load": "CodeMagics",
        "load_ext": "ExtensionMagics",
        "loadpy": "CodeMagics",
        "logoff": "LoggingMagics",
        "logon": "LoggingMagics",
        "logstart": "LoggingMagics",
        "logstate": "LoggingMagics",
        "logstop": "LoggingMagics",
        "ls": "Other",
        "lsmagic": "BasicMagics",
        "lx": "Other",
        "macro": "ExecutionMagics",
        "magic": "BasicMagics",
        "man": "KernelMagics",
        "matplotlib": "PylabMagics",
        "mkdir": "Other",
        "more": "KernelMagics",
        "mv": "Other",
        "notebook": "BasicMagics",
        "page": "BasicMagics",
        "pastebin": "CodeMagics",
        "pdb": "ExecutionMagics",
        "pdef": "NamespaceMagics",
        "pdoc": "NamespaceMagics",
        "pfile": "NamespaceMagics",
        "pinfo": "NamespaceMagics",
        "pinfo2": "NamespaceMagics",
        "popd": "OSMagics",
        "pprint": "BasicMagics",
        "precision": "BasicMagics",
        "profile": "BasicMagics",
        "prun": "ExecutionMagics",
        "psearch": "NamespaceMagics",
        "psource": "NamespaceMagics",
        "pushd": "OSMagics",
        "pwd": "OSMagics",
        "pycat": "OSMagics",
        "pylab": "PylabMagics",
        "qtconsole": "KernelMagics",
        "quickref": "BasicMagics",
        "recall": "HistoryMagics",
        "rehashx": "OSMagics",
        "reload_ext": "ExtensionMagics",
        "rep": "Other",
        "rerun": "HistoryMagics",
        "reset": "NamespaceMagics",
        "reset_selective": "NamespaceMagics",
        "rm": "Other",
        "rmdir": "Other",
        "run": "ExecutionMagics",
        "save": "CodeMagics",
        "sc": "OSMagics",
        "set_env": "OSMagics",
        "store": "StoreMagics",
        "sx": "OSMagics",
        "system": "OSMagics",
        "tb": "ExecutionMagics",
        "time": "ExecutionMagics",
        "timeit": "ExecutionMagics",
        "unalias": "OSMagics",
        "unload_ext": "ExtensionMagics",
        "who": "NamespaceMagics",
        "who_ls": "NamespaceMagics",
        "whos": "NamespaceMagics",
        "xdel": "NamespaceMagics",
        "xmode": "BasicMagics"
       }
      },
      "text/plain": [
       "Available line magics:\n",
       "%alias  %alias_magic  %autocall  %automagic  %autosave  %bookmark  %cat  %cd  %clear  %colors  %config  %connect_info  %cp  %debug  %dhist  %dirs  %doctest_mode  %ed  %edit  %env  %gui  %hist  %history  %install_default_config  %install_ext  %install_profiles  %killbgscripts  %ldir  %less  %lf  %lk  %ll  %load  %load_ext  %loadpy  %logoff  %logon  %logstart  %logstate  %logstop  %ls  %lsmagic  %lx  %macro  %magic  %man  %matplotlib  %mkdir  %more  %mv  %notebook  %page  %pastebin  %pdb  %pdef  %pdoc  %pfile  %pinfo  %pinfo2  %popd  %pprint  %precision  %profile  %prun  %psearch  %psource  %pushd  %pwd  %pycat  %pylab  %qtconsole  %quickref  %recall  %rehashx  %reload_ext  %rep  %rerun  %reset  %reset_selective  %rm  %rmdir  %run  %save  %sc  %set_env  %store  %sx  %system  %tb  %time  %timeit  %unalias  %unload_ext  %who  %who_ls  %whos  %xdel  %xmode\n",
       "\n",
       "Available cell magics:\n",
       "%%!  %%HTML  %%SVG  %%bash  %%capture  %%debug  %%file  %%html  %%javascript  %%latex  %%perl  %%prun  %%pypy  %%python  %%python2  %%python3  %%ruby  %%script  %%sh  %%svg  %%sx  %%system  %%time  %%timeit  %%writefile\n",
       "\n",
       "Automagic is ON, % prefix IS NOT needed for line magics."
      ]
     },
     "execution_count": 87,
     "metadata": {},
     "output_type": "execute_result"
    }
   ],
   "source": [
    "%lsmagic"
   ]
  },
  {
   "cell_type": "code",
   "execution_count": 90,
   "metadata": {
    "collapsed": false
   },
   "outputs": [
    {
     "name": "stderr",
     "output_type": "stream",
     "text": [
      "UsageError: %colors: you must specify a color scheme. See '%colors?'"
     ]
    }
   ],
   "source": [
    "%colors"
   ]
  },
  {
   "cell_type": "code",
   "execution_count": null,
   "metadata": {
    "collapsed": true
   },
   "outputs": [],
   "source": []
  }
 ],
 "metadata": {
  "kernelspec": {
   "display_name": "Python 2",
   "language": "python",
   "name": "python2"
  },
  "language_info": {
   "codemirror_mode": {
    "name": "ipython",
    "version": 2
   },
   "file_extension": ".py",
   "mimetype": "text/x-python",
   "name": "python",
   "nbconvert_exporter": "python",
   "pygments_lexer": "ipython2",
   "version": "2.7.6"
  }
 },
 "nbformat": 4,
 "nbformat_minor": 0
}
