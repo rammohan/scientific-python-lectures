{
 "cells": [
  {
   "cell_type": "code",
   "execution_count": null,
   "metadata": {
    "collapsed": true
   },
   "outputs": [],
   "source": [
    "import numpy as np\n",
    "import matplotlib.pyplot as plt\n",
    "\n",
    "%matplotlib inline"
   ]
  },
  {
   "cell_type": "markdown",
   "metadata": {},
   "source": [
    "## Creating numpy arrays\n",
    "    1. From python lists/tuples\n",
    "    2. using functions returning numpy arrays\n",
    "    3. reading data from files "
   ]
  },
  {
   "cell_type": "markdown",
   "metadata": {},
   "source": [
    "#### From Lists:"
   ]
  },
  {
   "cell_type": "code",
   "execution_count": null,
   "metadata": {
    "collapsed": false
   },
   "outputs": [],
   "source": [
    "# create a simple array - not in matrix format\n",
    "v = np.array([1,2,3])\n",
    "print \"Array : \", v.shape, v\n",
    "\n",
    "# create a row vector\n",
    "v = np.array([[1,2,3]])\n",
    "print \"Row Vector: \", v.shape, v\n",
    "\n",
    "# create a column vector\n",
    "v = np.array([[1],[2],[3]])\n",
    "print 'Column Vector: ', v.shape, v\n",
    "\n",
    "# create a matrix\n",
    "v = np.array([[1,2], [3,4]])\n",
    "print 'Matrix: ', v.shape\n",
    "print v\n",
    "\n",
    "# get #elements in an array\n",
    "print \"#elements in %s matrix: %d\" %(v.shape, v.size)"
   ]
  },
  {
   "cell_type": "markdown",
   "metadata": {},
   "source": [
    "#### Using Array generating functions"
   ]
  },
  {
   "cell_type": "code",
   "execution_count": null,
   "metadata": {
    "collapsed": false
   },
   "outputs": [],
   "source": [
    "# create a range of values\n",
    "# 'arange' generates equally spaced values with incr/decr (stop-start)/step\n",
    "a1 = np.arange(0, 10, 1)    # start, stop step\n",
    "print a1\n",
    "\n",
    "# range in reverse order\n",
    "a2 = np.arange(10, 0, -1)\n",
    "print a2"
   ]
  },
  {
   "cell_type": "code",
   "execution_count": null,
   "metadata": {
    "collapsed": false
   },
   "outputs": [],
   "source": [
    "# 'linspace' similar to 'arange', but instead of set, num_of_samples need to be specified\n",
    "l1 = np.linspace(0, 10, num=10, endpoint=False, dtype=np.int32)\n",
    "print 'l1: ', l1\n",
    "\n",
    "l2 = np.linspace(0, 1, num=5)\n",
    "print 'l2: ', l2"
   ]
  },
  {
   "cell_type": "code",
   "execution_count": null,
   "metadata": {
    "collapsed": false
   },
   "outputs": [],
   "source": [
    "# 'logspace' numbers evenly spaces on log scales, between 'start' and 'stop' values\n",
    "log_sample1 = np.logspace(0, 1, num=10, base=10)\n",
    "print 'log_sample1: ', log_sample1\n",
    "log_sample2 = np.logspace(0, 1, num=10, base=np.e)\n",
    "print 'log_sample2: ', log_sample2"
   ]
  },
  {
   "cell_type": "markdown",
   "metadata": {},
   "source": [
    "#### Random data"
   ]
  },
  {
   "cell_type": "code",
   "execution_count": null,
   "metadata": {
    "collapsed": false
   },
   "outputs": [],
   "source": [
    "# seed random number generator\n",
    "np.random.seed(1234)\n",
    "\n",
    "# uniform random sample in half interval [0, 1)\n",
    "uniform_sample1 = np.random.random_sample(4)  # size param specifes dimension\n",
    "print 'uniform_sample1 of size %s: %s' %(uniform_sample1.shape, uniform_sample1)\n",
    "uniform_sample2 = np.random.random_sample((2,2))\n",
    "print 'uniform_sample2 of size %s: %s\\n' %(uniform_sample2.shape, uniform_sample2)\n",
    "\n",
    "# np.random.random() is an alias for np.random.random_sample()\n",
    "random_sample1 = np.random.random(4)\n",
    "print 'random_sample1 of size %s is %s\\n' %(random_sample1.shape, random_sample1)\n",
    "\n",
    "# sample random integers in a range\n",
    "# draw 4 samples from integer range [0, 10)\n",
    "int_sample1 = np.random.randint(0, 10, 4)\n",
    "print 'int_sample1 of size %s is %s' %(int_sample1.shape, int_sample1)\n",
    "int_sample2 = np.random.randint(0, 10, (3,3))\n",
    "print 'int_sample2 of size %s is %s\\n' %(int_sample2.shape, int_sample2)\n",
    "\n",
    "# array permutation\n",
    "orig_vector = np.arange(5)\n",
    "permuted_vector = np.random.permutation(orig_vector)\n",
    "print 'orig vector ', orig_vector\n",
    "print 'permuted vector ', permuted_vector\n",
    "# In matrix permutation, only elements along first index are shuffled\n",
    "orig_matrix = np.random.randint(0, 20, (3,3))\n",
    "permuted_matrix = np.random.permutation(orig_matrix)\n",
    "print 'orig matrix ', orig_matrix\n",
    "print 'permuted matrix %s\\n' %(permuted_matrix,)\n",
    "\n",
    "# sample from a discrete set of symbols with/without replacement subject to uniform/non-uniform probability\n",
    "cities = ('HYD', 'BLR', 'MUM', 'DEL')\n",
    "choice_distr1 = np.random.choice(cities, 4, replace=False)\n",
    "print 'choice_distr1 : ', choice_distr1\n",
    "choice_distr2 = np.random.choice(cities, 4, replace=True, p=(.4, .1, .1, .4))\n",
    "print 'choice_distr2 : ', choice_distr2\n",
    "print '\\n'\n",
    "\n",
    "# np.random also has sampling routines for \n",
    "# beta, binomial, chisquare, exponential, f, gamma,}"
   ]
  },
  {
   "cell_type": "markdown",
   "metadata": {},
   "source": [
    "##### np.random also has sampling routines for following distributions\n",
    "* beta, binomial, chisquare, exponential, f, gamma, geometric, hypergeometric, laplace, logistic, lognormal, negative binomial, normal, poisson, uniform, weibull\n",
    "* dirichlet, multinomial, multivariate normal\n",
    "* standrd distributions: cauchy, exponential, gamma, normal, t "
   ]
  },
  {
   "cell_type": "code",
   "execution_count": null,
   "metadata": {
    "collapsed": false
   },
   "outputs": [],
   "source": []
  },
  {
   "cell_type": "code",
   "execution_count": null,
   "metadata": {
    "collapsed": false
   },
   "outputs": [],
   "source": [
    "help(np.random.beta)"
   ]
  },
  {
   "cell_type": "code",
   "execution_count": null,
   "metadata": {
    "collapsed": true
   },
   "outputs": [],
   "source": []
  }
 ],
 "metadata": {
  "kernelspec": {
   "display_name": "Python 2",
   "language": "python",
   "name": "python2"
  },
  "language_info": {
   "codemirror_mode": {
    "name": "ipython",
    "version": 2
   },
   "file_extension": ".py",
   "mimetype": "text/x-python",
   "name": "python",
   "nbconvert_exporter": "python",
   "pygments_lexer": "ipython2",
   "version": "2.7.6"
  }
 },
 "nbformat": 4,
 "nbformat_minor": 0
}
