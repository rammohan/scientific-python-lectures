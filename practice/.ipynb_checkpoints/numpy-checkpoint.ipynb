{
 "cells": [
  {
   "cell_type": "code",
   "execution_count": 1,
   "metadata": {
    "collapsed": true
   },
   "outputs": [],
   "source": [
    "import numpy as np\n",
    "import matplotlib.pyplot as plt\n",
    "\n",
    "%matplotlib inline"
   ]
  },
  {
   "cell_type": "markdown",
   "metadata": {},
   "source": [
    "## Creating numpy arrays\n",
    "    1. From python lists/tuples\n",
    "    2. using functions returning numpy arrays\n",
    "    3. reading data from files "
   ]
  },
  {
   "cell_type": "markdown",
   "metadata": {},
   "source": [
    "#### From Lists:"
   ]
  },
  {
   "cell_type": "code",
   "execution_count": 2,
   "metadata": {
    "collapsed": false
   },
   "outputs": [
    {
     "name": "stdout",
     "output_type": "stream",
     "text": [
      "Array :  (3,) [1 2 3]\n",
      "Row Vector:  (1, 3) [[1 2 3]]\n",
      "Column Vector:  (3, 1) [[1]\n",
      " [2]\n",
      " [3]]\n",
      "Matrix:  (2, 2)\n",
      "[[1 2]\n",
      " [3 4]]\n",
      "#elements in (2, 2) matrix: 4\n"
     ]
    }
   ],
   "source": [
    "# create a simple array - not in matrix format\n",
    "v = np.array([1,2,3])\n",
    "print \"Array : \", v.shape, v\n",
    "\n",
    "# create a row vector\n",
    "v = np.array([[1,2,3]])\n",
    "print \"Row Vector: \", v.shape, v\n",
    "\n",
    "# create a column vector\n",
    "v = np.array([[1],[2],[3]])\n",
    "print 'Column Vector: ', v.shape, v\n",
    "\n",
    "# create a matrix\n",
    "v = np.array([[1,2], [3,4]])\n",
    "print 'Matrix: ', v.shape\n",
    "print v\n",
    "\n",
    "# get #elements in an array\n",
    "print \"#elements in %s matrix: %d\" %(v.shape, v.size)"
   ]
  },
  {
   "cell_type": "markdown",
   "metadata": {},
   "source": [
    "#### Using Array generating functions"
   ]
  },
  {
   "cell_type": "code",
   "execution_count": 3,
   "metadata": {
    "collapsed": false
   },
   "outputs": [
    {
     "name": "stdout",
     "output_type": "stream",
     "text": [
      "[0 1 2 3 4 5 6 7 8 9]\n",
      "[10  9  8  7  6  5  4  3  2  1]\n"
     ]
    }
   ],
   "source": [
    "# create a range of values\n",
    "# 'arange' generates equally spaced values with incr/decr (stop-start)/step\n",
    "a1 = np.arange(0, 10, 1)    # start, stop step\n",
    "print a1\n",
    "\n",
    "# range in reverse order\n",
    "a2 = np.arange(10, 0, -1)\n",
    "print a2"
   ]
  },
  {
   "cell_type": "code",
   "execution_count": 10,
   "metadata": {
    "collapsed": false
   },
   "outputs": [
    {
     "name": "stdout",
     "output_type": "stream",
     "text": [
      "l1:  [0 1 2 3 4 5 6 7 8 9]\n",
      "l2:  [ 0.    0.25  0.5   0.75  1.  ]\n"
     ]
    }
   ],
   "source": [
    "# 'linspace' similar to 'arange', but instead of set, num_of_samples need to be specified\n",
    "l1 = np.linspace(0, 10, num=10, endpoint=False, dtype=np.int32)\n",
    "print 'l1: ', l1\n",
    "\n",
    "l2 = np.linspace(0, 1, num=5)\n",
    "print 'l2: ', l2"
   ]
  },
  {
   "cell_type": "code",
   "execution_count": 14,
   "metadata": {
    "collapsed": false
   },
   "outputs": [
    {
     "name": "stdout",
     "output_type": "stream",
     "text": [
      "[  1.00000000e+00   1.29154967e+01   1.66810054e+02   2.15443469e+03\n",
      "   2.78255940e+04   3.59381366e+05   4.64158883e+06   5.99484250e+07\n",
      "   7.74263683e+08   1.00000000e+10]\n"
     ]
    }
   ],
   "source": [
    "# 'logspace' numbers evenly spaces on log scales, between 'start' and 'stop' values\n",
    "log_sample1 = np.logspace(0, 10, num=10, base=10)\n",
    "print log_sample1"
   ]
  },
  {
   "cell_type": "code",
   "execution_count": null,
   "metadata": {
    "collapsed": false
   },
   "outputs": [],
   "source": []
  },
  {
   "cell_type": "code",
   "execution_count": null,
   "metadata": {
    "collapsed": true
   },
   "outputs": [],
   "source": []
  }
 ],
 "metadata": {
  "kernelspec": {
   "display_name": "Python 2",
   "language": "python",
   "name": "python2"
  },
  "language_info": {
   "codemirror_mode": {
    "name": "ipython",
    "version": 2
   },
   "file_extension": ".py",
   "mimetype": "text/x-python",
   "name": "python",
   "nbconvert_exporter": "python",
   "pygments_lexer": "ipython2",
   "version": "2.7.6"
  }
 },
 "nbformat": 4,
 "nbformat_minor": 0
}
